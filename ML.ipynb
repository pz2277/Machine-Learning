{
 "cells": [
  {
   "cell_type": "markdown",
   "id": "7309635e",
   "metadata": {},
   "source": [
    "## Midterm Exam - Peizhi Zhang"
   ]
  },
  {
   "cell_type": "code",
   "execution_count": 2,
   "id": "e150f436",
   "metadata": {},
   "outputs": [],
   "source": [
    "%matplotlib inline\n",
    "import pandas as pd\n",
    "import numpy as np\n",
    "\n",
    "# Supress Warnings\n",
    "import warnings\n",
    "warnings.simplefilter(action='ignore', category=FutureWarning)\n",
    "\n",
    "from sklearn.exceptions import DataConversionWarning\n",
    "warnings.filterwarnings(action='ignore', category=DataConversionWarning)\n",
    "\n",
    "pd.options.display.max_rows = 10"
   ]
  },
  {
   "cell_type": "markdown",
   "id": "b9aee3c0",
   "metadata": {},
   "source": [
    "### Use the spam dataset and variable descriptions in the files/Mid-Term Exam folder of the course website to answer the following questions. "
   ]
  },
  {
   "cell_type": "markdown",
   "id": "26bf3af0",
   "metadata": {},
   "source": [
    "### 1.  Import the spam dataset and print the first six rows.  "
   ]
  },
  {
   "cell_type": "code",
   "execution_count": 3,
   "id": "7e31d147",
   "metadata": {},
   "outputs": [
    {
     "data": {
      "text/html": [
       "<div>\n",
       "<style scoped>\n",
       "    .dataframe tbody tr th:only-of-type {\n",
       "        vertical-align: middle;\n",
       "    }\n",
       "\n",
       "    .dataframe tbody tr th {\n",
       "        vertical-align: top;\n",
       "    }\n",
       "\n",
       "    .dataframe thead th {\n",
       "        text-align: right;\n",
       "    }\n",
       "</style>\n",
       "<table border=\"1\" class=\"dataframe\">\n",
       "  <thead>\n",
       "    <tr style=\"text-align: right;\">\n",
       "      <th></th>\n",
       "      <th>word_freq_make:</th>\n",
       "      <th>word_freq_address:</th>\n",
       "      <th>word_freq_all:</th>\n",
       "      <th>word_freq_3d:</th>\n",
       "      <th>word_freq_our:</th>\n",
       "      <th>word_freq_over:</th>\n",
       "      <th>word_freq_remove:</th>\n",
       "      <th>word_freq_internet:</th>\n",
       "      <th>word_freq_order:</th>\n",
       "      <th>word_freq_mail:</th>\n",
       "      <th>...</th>\n",
       "      <th>char_freq_;:</th>\n",
       "      <th>char_freq_(:</th>\n",
       "      <th>char_freq_[:</th>\n",
       "      <th>char_freq_!:</th>\n",
       "      <th>char_freq_$:</th>\n",
       "      <th>char_freq_#:</th>\n",
       "      <th>capital_run_length_average:</th>\n",
       "      <th>capital_run_length_longest:</th>\n",
       "      <th>capital_run_length_total:</th>\n",
       "      <th>spam</th>\n",
       "    </tr>\n",
       "  </thead>\n",
       "  <tbody>\n",
       "    <tr>\n",
       "      <th>0</th>\n",
       "      <td>0.00</td>\n",
       "      <td>0.64</td>\n",
       "      <td>0.64</td>\n",
       "      <td>0.0</td>\n",
       "      <td>0.32</td>\n",
       "      <td>0.00</td>\n",
       "      <td>0.00</td>\n",
       "      <td>0.00</td>\n",
       "      <td>0.00</td>\n",
       "      <td>0.00</td>\n",
       "      <td>...</td>\n",
       "      <td>0.00</td>\n",
       "      <td>0.000</td>\n",
       "      <td>0.0</td>\n",
       "      <td>0.778</td>\n",
       "      <td>0.000</td>\n",
       "      <td>0.000</td>\n",
       "      <td>3.756</td>\n",
       "      <td>61</td>\n",
       "      <td>278</td>\n",
       "      <td>1</td>\n",
       "    </tr>\n",
       "    <tr>\n",
       "      <th>1</th>\n",
       "      <td>0.21</td>\n",
       "      <td>0.28</td>\n",
       "      <td>0.50</td>\n",
       "      <td>0.0</td>\n",
       "      <td>0.14</td>\n",
       "      <td>0.28</td>\n",
       "      <td>0.21</td>\n",
       "      <td>0.07</td>\n",
       "      <td>0.00</td>\n",
       "      <td>0.94</td>\n",
       "      <td>...</td>\n",
       "      <td>0.00</td>\n",
       "      <td>0.132</td>\n",
       "      <td>0.0</td>\n",
       "      <td>0.372</td>\n",
       "      <td>0.180</td>\n",
       "      <td>0.048</td>\n",
       "      <td>5.114</td>\n",
       "      <td>101</td>\n",
       "      <td>1028</td>\n",
       "      <td>1</td>\n",
       "    </tr>\n",
       "    <tr>\n",
       "      <th>2</th>\n",
       "      <td>0.06</td>\n",
       "      <td>0.00</td>\n",
       "      <td>0.71</td>\n",
       "      <td>0.0</td>\n",
       "      <td>1.23</td>\n",
       "      <td>0.19</td>\n",
       "      <td>0.19</td>\n",
       "      <td>0.12</td>\n",
       "      <td>0.64</td>\n",
       "      <td>0.25</td>\n",
       "      <td>...</td>\n",
       "      <td>0.01</td>\n",
       "      <td>0.143</td>\n",
       "      <td>0.0</td>\n",
       "      <td>0.276</td>\n",
       "      <td>0.184</td>\n",
       "      <td>0.010</td>\n",
       "      <td>9.821</td>\n",
       "      <td>485</td>\n",
       "      <td>2259</td>\n",
       "      <td>1</td>\n",
       "    </tr>\n",
       "    <tr>\n",
       "      <th>3</th>\n",
       "      <td>0.00</td>\n",
       "      <td>0.00</td>\n",
       "      <td>0.00</td>\n",
       "      <td>0.0</td>\n",
       "      <td>0.63</td>\n",
       "      <td>0.00</td>\n",
       "      <td>0.31</td>\n",
       "      <td>0.63</td>\n",
       "      <td>0.31</td>\n",
       "      <td>0.63</td>\n",
       "      <td>...</td>\n",
       "      <td>0.00</td>\n",
       "      <td>0.137</td>\n",
       "      <td>0.0</td>\n",
       "      <td>0.137</td>\n",
       "      <td>0.000</td>\n",
       "      <td>0.000</td>\n",
       "      <td>3.537</td>\n",
       "      <td>40</td>\n",
       "      <td>191</td>\n",
       "      <td>1</td>\n",
       "    </tr>\n",
       "    <tr>\n",
       "      <th>4</th>\n",
       "      <td>0.00</td>\n",
       "      <td>0.00</td>\n",
       "      <td>0.00</td>\n",
       "      <td>0.0</td>\n",
       "      <td>0.63</td>\n",
       "      <td>0.00</td>\n",
       "      <td>0.31</td>\n",
       "      <td>0.63</td>\n",
       "      <td>0.31</td>\n",
       "      <td>0.63</td>\n",
       "      <td>...</td>\n",
       "      <td>0.00</td>\n",
       "      <td>0.135</td>\n",
       "      <td>0.0</td>\n",
       "      <td>0.135</td>\n",
       "      <td>0.000</td>\n",
       "      <td>0.000</td>\n",
       "      <td>3.537</td>\n",
       "      <td>40</td>\n",
       "      <td>191</td>\n",
       "      <td>1</td>\n",
       "    </tr>\n",
       "    <tr>\n",
       "      <th>5</th>\n",
       "      <td>0.00</td>\n",
       "      <td>0.00</td>\n",
       "      <td>0.00</td>\n",
       "      <td>0.0</td>\n",
       "      <td>1.85</td>\n",
       "      <td>0.00</td>\n",
       "      <td>0.00</td>\n",
       "      <td>1.85</td>\n",
       "      <td>0.00</td>\n",
       "      <td>0.00</td>\n",
       "      <td>...</td>\n",
       "      <td>0.00</td>\n",
       "      <td>0.223</td>\n",
       "      <td>0.0</td>\n",
       "      <td>0.000</td>\n",
       "      <td>0.000</td>\n",
       "      <td>0.000</td>\n",
       "      <td>3.000</td>\n",
       "      <td>15</td>\n",
       "      <td>54</td>\n",
       "      <td>1</td>\n",
       "    </tr>\n",
       "  </tbody>\n",
       "</table>\n",
       "<p>6 rows × 58 columns</p>\n",
       "</div>"
      ],
      "text/plain": [
       "   word_freq_make:  word_freq_address:  word_freq_all:  word_freq_3d:  \\\n",
       "0             0.00                0.64            0.64            0.0   \n",
       "1             0.21                0.28            0.50            0.0   \n",
       "2             0.06                0.00            0.71            0.0   \n",
       "3             0.00                0.00            0.00            0.0   \n",
       "4             0.00                0.00            0.00            0.0   \n",
       "5             0.00                0.00            0.00            0.0   \n",
       "\n",
       "   word_freq_our:  word_freq_over:  word_freq_remove:  word_freq_internet:  \\\n",
       "0            0.32             0.00               0.00                 0.00   \n",
       "1            0.14             0.28               0.21                 0.07   \n",
       "2            1.23             0.19               0.19                 0.12   \n",
       "3            0.63             0.00               0.31                 0.63   \n",
       "4            0.63             0.00               0.31                 0.63   \n",
       "5            1.85             0.00               0.00                 1.85   \n",
       "\n",
       "   word_freq_order:  word_freq_mail:  ...  char_freq_;:  char_freq_(:  \\\n",
       "0              0.00             0.00  ...          0.00         0.000   \n",
       "1              0.00             0.94  ...          0.00         0.132   \n",
       "2              0.64             0.25  ...          0.01         0.143   \n",
       "3              0.31             0.63  ...          0.00         0.137   \n",
       "4              0.31             0.63  ...          0.00         0.135   \n",
       "5              0.00             0.00  ...          0.00         0.223   \n",
       "\n",
       "   char_freq_[:  char_freq_!:  char_freq_$:  char_freq_#:  \\\n",
       "0           0.0         0.778         0.000         0.000   \n",
       "1           0.0         0.372         0.180         0.048   \n",
       "2           0.0         0.276         0.184         0.010   \n",
       "3           0.0         0.137         0.000         0.000   \n",
       "4           0.0         0.135         0.000         0.000   \n",
       "5           0.0         0.000         0.000         0.000   \n",
       "\n",
       "   capital_run_length_average:  capital_run_length_longest:  \\\n",
       "0                        3.756                           61   \n",
       "1                        5.114                          101   \n",
       "2                        9.821                          485   \n",
       "3                        3.537                           40   \n",
       "4                        3.537                           40   \n",
       "5                        3.000                           15   \n",
       "\n",
       "   capital_run_length_total:  spam  \n",
       "0                        278     1  \n",
       "1                       1028     1  \n",
       "2                       2259     1  \n",
       "3                        191     1  \n",
       "4                        191     1  \n",
       "5                         54     1  \n",
       "\n",
       "[6 rows x 58 columns]"
      ]
     },
     "execution_count": 3,
     "metadata": {},
     "output_type": "execute_result"
    }
   ],
   "source": [
    "df = pd.read_csv(\"/Users/peizhi/Documents/Machine learning/spam_dataset.csv\")\n",
    "df.head(n=6)"
   ]
  },
  {
   "cell_type": "markdown",
   "id": "f6daa16d",
   "metadata": {},
   "source": [
    "### 2.  Read through the documentation of the original dataset here:\n",
    "\n",
    "http://archive.ics.uci.edu/ml/machine-learning-databases/spambase/spambase.names\n",
    "\n",
    "The dependent variable is \"spam\" where one indicates that an email is spam and zero otherwise.  Which three variables in the dataset do you think will be important predictors in a model of spam?  Why?"
   ]
  },
  {
   "cell_type": "markdown",
   "id": "f9255c1f",
   "metadata": {},
   "source": [
    "I believe that \"char_freq_#:\",\"word_freq_hp\", and \"word_freq_meeting\" are three variables in the dataset that will be important predictors. First, in the non-spam emails, people rarely write hashtag (#) to send a message to colleague or someone that is close to them; mostly in the spam emails, there will be hashtags to promote something or display as an ad slogan. Second, in the csv file, the word \"hp\" rarely appears in the first 1814 rows, which are the rows for spam = 1, while in the following rows that indicate non-spam emails, the percentage are much higher overall. Third, \"meeting\" is a word usually used in a professional setting, which will be a good indicator of non-spam letters. "
   ]
  },
  {
   "cell_type": "markdown",
   "id": "e040a699",
   "metadata": {},
   "source": [
    "### 3.  Visualize the univariate distribution of each of the variables in the previous question.  "
   ]
  },
  {
   "cell_type": "code",
   "execution_count": 4,
   "id": "59fdc565",
   "metadata": {},
   "outputs": [
    {
     "data": {
      "text/plain": [
       "Text(0, 0.5, 'count')"
      ]
     },
     "execution_count": 4,
     "metadata": {},
     "output_type": "execute_result"
    },
    {
     "data": {
      "image/png": "[encoded data removed]",
      "text/plain": [
       "<Figure size 432x288 with 1 Axes>"
      ]
     },
     "metadata": {
      "needs_background": "light"
     },
     "output_type": "display_data"
    }
   ],
   "source": [
    "# Dependent Variable\n",
    "import matplotlib.pyplot as plt\n",
    "import seaborn as sns\n",
    "df['spam'].value_counts().plot.bar()\n",
    "plt.xlabel('Non-spam                                Spam')\n",
    "plt.ylabel('count')"
   ]
  },
  {
   "cell_type": "code",
   "execution_count": 5,
   "id": "b741a658",
   "metadata": {},
   "outputs": [
    {
     "data": {
      "text/plain": [
       "Text(0.5, 0, 'frequency of hashtag occurance in emails')"
      ]
     },
     "execution_count": 5,
     "metadata": {},
     "output_type": "execute_result"
    },
    {
     "data": {
      "image/png": "[encoded data removed]",
      "text/plain": [
       "<Figure size 432x288 with 1 Axes>"
      ]
     },
     "metadata": {
      "needs_background": "light"
     },
     "output_type": "display_data"
    }
   ],
   "source": [
    "# Independent Variables\n",
    "df['char_freq_#:'].plot(kind='density')\n",
    "plt.xlabel('frequency of hashtag occurance in emails')"
   ]
  },
  {
   "cell_type": "code",
   "execution_count": 6,
   "id": "420f333c",
   "metadata": {},
   "outputs": [
    {
     "data": {
      "text/plain": [
       "Text(0.5, 0, 'frequency of the word \"hp\" in emails')"
      ]
     },
     "execution_count": 6,
     "metadata": {},
     "output_type": "execute_result"
    },
    {
     "data": {
      "image/png": "[encoded data removed]",
      "text/plain": [
       "<Figure size 432x288 with 1 Axes>"
      ]
     },
     "metadata": {
      "needs_background": "light"
     },
     "output_type": "display_data"
    }
   ],
   "source": [
    "df['word_freq_hp:'].plot(kind='density')\n",
    "plt.xlabel('frequency of the word \"hp\" in emails')"
   ]
  },
  {
   "cell_type": "code",
   "execution_count": 7,
   "id": "d01a2a6e",
   "metadata": {},
   "outputs": [
    {
     "data": {
      "text/plain": [
       "Text(0.5, 0, 'frequency of the word \"meeting\" in emails')"
      ]
     },
     "execution_count": 7,
     "metadata": {},
     "output_type": "execute_result"
    },
    {
     "data": {
      "image/png": "[encoded data removed]",
      "text/plain": [
       "<Figure size 432x288 with 1 Axes>"
      ]
     },
     "metadata": {
      "needs_background": "light"
     },
     "output_type": "display_data"
    }
   ],
   "source": [
    "df['word_freq_meeting:'].plot(kind='density')\n",
    "plt.xlabel('frequency of the word \"meeting\" in emails')"
   ]
  },
  {
   "cell_type": "markdown",
   "id": "a3fd503c",
   "metadata": {},
   "source": [
    "### 4. Name each of the supervised learning models that we have learned thus far that are used to predict dependent variables like \"spam\"."
   ]
  },
  {
   "cell_type": "markdown",
   "id": "34aec9c6",
   "metadata": {},
   "source": [
    "Since \"spam\" is a categorical variable in a categorical model, the supervised learning models that can be used to predict \"spam\" are logistic regression, k nearest neighbor for classification model, decision tree, support vector machines, and penalized logistic regression (in which \"penalty = none\" is Lasso regression and \"penalty does not equal to none\" is Ridge regression). \n",
    "\n",
    "A logistic regression model can be used to predict a binary outcome or categorical dependent variable with code as 1 (=yes), and 0 (=no), by plotting the depedent variable's probability scores. We can use fitted logistic regression model to predict if an email is spam or non-spam by predicting the class membership probabilities of the new observations. \n",
    "\n",
    "A penalized logistic regression can predict categorical outcomes the same way as logistic regression models, but with additional constraints to the model. By adding a lamda/alpha, it constrains the size of the coefficients, in order to have a shrinking effect on the variables that do not contribute to the prediction task.\n",
    "\n",
    "A classification model with k nearest neighbor parameter can predict if an email is spam or non-spam by defining k value and calculating the new observation's similarity to \"spam\" using distance measurement. \n",
    "\n",
    "A support vector machine is used for predicting categorical variables by mapping the independent variables to dependent variable, in which the decision boundary separates different classes. \n",
    "\n",
    "A decision tree uses tree-structured classifier to represent the data set and the decision rules. It is able to predict categorical variable \"spam\" by calculating the average of the value of being \"spam\" in a specific leaf node. With iterations, it can predict a final value for the new independent data points. "
   ]
  },
  {
   "cell_type": "markdown",
   "id": "982c4425",
   "metadata": {},
   "source": [
    "### 5. Describe the importance of training and test data.  Why do we separate data into these subsets?"
   ]
  },
  {
   "cell_type": "markdown",
   "id": "1d9b180a",
   "metadata": {},
   "source": [
    "In a supervised learning model, we split data into training data and test data with random test split. This process will produce four outputs, including X_train, y_train, X_test, y_test. Setting up data objects into training and test data subsets is important because we can have, for example, 75% of training data used for fitting the model/training the algorithm, and 25% of test data can be held out to predict on X_test data and evaluate on y_test data using the fitted model, so that we can eventually evaluate how well the model can perform on unseen data. In other words, we use training data to generate machine learning models with attributes such as Euclidean distance; we then score on the test data using the fitted model to generate predictions on new data. We care about the accuracy of test_scores the most because we want to predict the unseen data, not the train_score. There could be instances where overfitting models exist, as we are focusing only on the training data, and having better predictive power on the training data, but at some point, we will lose the signal of the held out information (test data). To predict well across all observations, we need both training and test data."
   ]
  },
  {
   "cell_type": "markdown",
   "id": "ef9ef165",
   "metadata": {},
   "source": [
    "### 6. What is k-fold cross validation and what do we use it for?"
   ]
  },
  {
   "cell_type": "markdown",
   "id": "3c57aac6",
   "metadata": {},
   "source": [
    "K-fold cross validation is a better method to evaluate a model than the simple train_test_split because in k-fold cross validation, through iteration of fitting the model with different data, the average of metrics offers a better benchmark for the performance for the model. In addition, we could encounter issues of overfitting models and underfitting models when we are focusing too much on the training model or fitting on the test data. In order to have maximum amount of training data to fit the model as well as maximum amount of test data for scoring the unseen data, we use k-fold cross validation. With K-fold CV, there is no repeated observations, but a repeated process of train_test_split with maximum amount of data to train on and test on. \n",
    "\n",
    "K-fold cross validation is the default method that we use to validate the stability of the ML model, to see if the model is overfit or not based on the n metrics results and metrics' mean. First we use train_test_split method to have, for example, 80% of training data and 20% of held out test data. Then, we do the cross validation among the 80% of the training data. If k-fold (n_splits = 5), we split the training data into 5 folds, in which we train on 4 folds of the data, and then validate on 1 fold of the data. We get the evaluative metric (aka: accuracy in this case) on the validated data. Next, we repeat the same process on a different fold of data as validation data, while using the rest of 4 folds as training data. We get another accuracy metric from the model. Eventually, we average out the five evaluative metrics to get the robust metric. In a way, we are using all the data for training and testing, without repetition. \n"
   ]
  },
  {
   "cell_type": "markdown",
   "id": "48f4309a",
   "metadata": {},
   "source": [
    "### 7. How is k-fold cross validation different from stratified k-fold cross validation?"
   ]
  },
  {
   "cell_type": "markdown",
   "id": "38b977b2",
   "metadata": {},
   "source": [
    "Stratified k-fold cross validation makes sure the relative class frequencies in each fold are proportional to the relative class frequencies on the whole datasets. For instance, for k-fold cross validation, we split the training data into 3 folds; for stratified k-fold cross validation, we further break down into 3 subsets for each of the 3 folds. In this way, we can avoid the imbalance of classes for the dependent variables in the k-fold cross validation. \n",
    "\n",
    "In the stratified k-fold cross validation, we have leave-out-out CV and repeated k-fold CV. For repeated k-fold CV, we apply k-fold or stratified k-fold validation multiple times with shuffled data. That is to say, we split the training data into 5 folds and get the average metric from each validation data and training data. Then, we shuffle the data again to have 5 folds of different observations and get the new average metric. In this case, we can do 10 times/shuffles, to get the average of 50 accuracy metrics to avoid the issue of randomization that can still exists in cross validation. Because for the cross validation, we can still have a sample from test data that does not contribute to the prediction of the unseen data. With repeated k-fold cross validation, we can get even more robust metric than stratified k-fold. "
   ]
  },
  {
   "cell_type": "markdown",
   "id": "550713ad",
   "metadata": {},
   "source": [
    "### 8. Choose one model from question four.  Split the data into training and test subsets.  Build a model with the three variables in the dataset that you think will be good predictors of \"spam\".  Describe why you chose any particular parameters for your model (e.g.- if you used KNN how did you decide to choose a specific value for k).  Run the model and evaluate prediction error in two ways: A) On test data directly and B) using k-fold cross-validation.  "
   ]
  },
  {
   "cell_type": "code",
   "execution_count": 8,
   "id": "55c8de44",
   "metadata": {},
   "outputs": [
    {
     "name": "stdout",
     "output_type": "stream",
     "text": [
      "   char_freq_#:  word_freq_hp:  word_freq_meeting:  spam\n",
      "0         0.000            0.0                 0.0     1\n",
      "1         0.048            0.0                 0.0     1\n",
      "2         0.010            0.0                 0.0     1\n",
      "3         0.000            0.0                 0.0     1\n",
      "4         0.000            0.0                 0.0     1\n"
     ]
    }
   ],
   "source": [
    "# select only three independent variables\n",
    "d = df [['char_freq_#:','word_freq_hp:','word_freq_meeting:','spam']].copy()\n",
    "print(d.head(n=5))\n",
    "\n",
    "#split data into training and test subsets\n",
    "y = d['spam']\n",
    "X = d.loc[:, d.columns !='spam']\n",
    "from sklearn.model_selection import train_test_split\n",
    "X_train, X_test, y_train, y_test = train_test_split(X, y, random_state=42)"
   ]
  },
  {
   "cell_type": "code",
   "execution_count": 9,
   "id": "829d0a02",
   "metadata": {},
   "outputs": [],
   "source": [
    "import warnings\n",
    "warnings.filterwarnings(\"ignore\")\n",
    "#Scale the data for KNN Classifier\n",
    "\n",
    "from sklearn.preprocessing import StandardScaler\n",
    "\n",
    "scaler = StandardScaler().fit(X_train)\n",
    "X_train_scaled = scaler.transform(X_train)\n",
    "X_test_scaled = scaler.transform(X_test)"
   ]
  },
  {
   "cell_type": "code",
   "execution_count": 46,
   "id": "f60998bb",
   "metadata": {},
   "outputs": [
    {
     "name": "stdout",
     "output_type": "stream",
     "text": [
      "KNN for REGRESSION (GridSearchCV)\n",
      "Best Parameter: {'n_neighbors': 9}\n",
      "Best Cross-Validation Score: 0.675\n",
      "Test set Score: 0.665\n",
      "\n",
      "KNN CLASSIFER (SCALED DATA)\n",
      "Test set score: 0.665\n",
      "accuracy: 0.6646394439617723\n",
      "RepeatedKFold:\n",
      "0.664282271419592\n",
      "Mean Cross Validation, KFold: 0.675\n"
     ]
    }
   ],
   "source": [
    "# Scaled KNN for Classification Using K-fold Cross-Validation\n",
    "\n",
    "# GridSearchCV with KNN for Classification\n",
    "\n",
    "from sklearn.model_selection import GridSearchCV\n",
    "knn_param_grid = {'n_neighbors': range(1, 10)}\n",
    "\n",
    "knn_grid = GridSearchCV(KNeighborsClassifier(), knn_param_grid).fit(X_train_scaled, y_train)\n",
    "\n",
    "print(\"KNN for REGRESSION (GridSearchCV)\")\n",
    "print(\"Best Parameter: {}\".format(knn_grid.best_params_))\n",
    "print(\"Best Cross-Validation Score: {:.3f}\".format(knn_grid.best_score_))\n",
    "print(\"Test set Score: {:.3f}\".format(knn_grid.score(X_test_scaled, y_test)))\n",
    "\n",
    "from sklearn.neighbors import KNeighborsClassifier\n",
    "\n",
    "print(\"\")\n",
    "print(\"KNN CLASSIFER (SCALED DATA)\")\n",
    "knn_scaled = KNeighborsClassifier(n_neighbors = 9).fit(X_train_scaled, y_train)\n",
    "\n",
    "# Evaluate prediction error on test data directly \n",
    "\n",
    "print(\"Test set score: {:.3f}\".format(knn_scaled.score(X_test_scaled, y_test)))\n",
    "print(\"accuracy: \"+str(knn_scaled.score(X_test_scaled, y_test)))\n",
    "y_pred = knn_scaled.predict(X_test_scaled) \n",
    "y_pred\n",
    "\n",
    "# Evaluate prediction error on k-fold CV\n",
    "from sklearn.model_selection import cross_val_score\n",
    "from sklearn.model_selection import KFold\n",
    "from sklearn.model_selection import RepeatedKFold\n",
    "\n",
    "from statistics import mean \n",
    "\n",
    "kfold = KFold(n_splits=9)\n",
    "rkf = RepeatedKFold(n_splits=9, n_repeats=10)\n",
    "\n",
    "print(\"RepeatedKFold:\\n{}\".format(\n",
    "    mean(cross_val_score(knn_scaled, X_train, y_train, cv=rkf))))\n",
    "\n",
    "print(\"Mean Cross Validation, KFold: {:.3f}\".format(\n",
    "    np.mean(cross_val_score(knn_scaled, X_train_scaled, y_train))))"
   ]
  },
  {
   "cell_type": "markdown",
   "id": "6f975a3e",
   "metadata": {},
   "source": [
    "I chose KNeighborsClassifier(n_neighbors=9) because odd numbers are better to break any ties in majority votes, and through tuning the model, the best parameter for this model is 9. However, the cross-validation score and the test set score are both low. The reason might be because the parameter is too high, which increases the complexity of running the model. When k is larger than 5, the model may become less efficient and slows down the prediction model. In this dataset of 4601 samples, smaller file size may predict more quickly, which is why I will use smaller parameter for the models below. \n",
    "\n",
    "After evaluating the model, it turns out that knn for classification model did not fit very well on the test data, and the mean accuracy metric is also low (=0.675). The reason for that might be due to the variables are not best at predicting spam emails. "
   ]
  },
  {
   "cell_type": "markdown",
   "id": "d4a64f97",
   "metadata": {},
   "source": [
    "### 9. Choose a second model from question four.  Using the same three variables in the dataset that you think will be good predictors of \"spam\".  Describe why you chose any particular parameters for your model (e.g.- if you used KNN how did you decide to choose a specific value for k).  Run the model and evaluate prediction error in two ways: A) On test data directly and B) using k-fold cross-validation.  Did this model predict test data better than your previous model?"
   ]
  },
  {
   "cell_type": "code",
   "execution_count": 50,
   "id": "a34df33f",
   "metadata": {},
   "outputs": [
    {
     "name": "stdout",
     "output_type": "stream",
     "text": [
      "LOGISTIC REGRESSION (GridSearchCV)\n",
      "Best Parameter: {'C': 0.001}\n",
      "Best Cross-Validation Score: 0.689\n",
      "Test set Score: 0.656\n",
      "\n",
      "LOGISTIC REGRESSION (UNSCALED DATA)\n",
      "Test set score: 0.656\n",
      "Accuracy: 0.6559513466550826\n",
      "Mean Cross Validation, KFold: 0.689\n"
     ]
    },
    {
     "data": {
      "text/html": [
       "<div>\n",
       "<style scoped>\n",
       "    .dataframe tbody tr th:only-of-type {\n",
       "        vertical-align: middle;\n",
       "    }\n",
       "\n",
       "    .dataframe tbody tr th {\n",
       "        vertical-align: top;\n",
       "    }\n",
       "\n",
       "    .dataframe thead th {\n",
       "        text-align: right;\n",
       "    }\n",
       "</style>\n",
       "<table border=\"1\" class=\"dataframe\">\n",
       "  <thead>\n",
       "    <tr style=\"text-align: right;\">\n",
       "      <th></th>\n",
       "      <th>char_freq_#:</th>\n",
       "      <th>word_freq_hp:</th>\n",
       "      <th>word_freq_meeting:</th>\n",
       "    </tr>\n",
       "  </thead>\n",
       "  <tbody>\n",
       "    <tr>\n",
       "      <th>Logistic Regression Coefficients</th>\n",
       "      <td>1.412689</td>\n",
       "      <td>-4.960798</td>\n",
       "      <td>-2.832322</td>\n",
       "    </tr>\n",
       "  </tbody>\n",
       "</table>\n",
       "</div>"
      ],
      "text/plain": [
       "                                  char_freq_#:  word_freq_hp:  \\\n",
       "Logistic Regression Coefficients      1.412689      -4.960798   \n",
       "\n",
       "                                  word_freq_meeting:  \n",
       "Logistic Regression Coefficients           -2.832322  "
      ]
     },
     "execution_count": 50,
     "metadata": {},
     "output_type": "execute_result"
    }
   ],
   "source": [
    "# Logistic Regression Model\n",
    "\n",
    "import warnings\n",
    "warnings.filterwarnings(\"ignore\")\n",
    "\n",
    "from sklearn.pipeline import make_pipeline\n",
    "from sklearn.linear_model import LogisticRegression\n",
    "\n",
    "# GridSearch CV with Logistic Regression Model\n",
    "\n",
    "logreg_param_grid = {'C': [0.001, 0.01, 0.1, 1, 10, 100, 1000]}\n",
    "logreg_grid = GridSearchCV(LogisticRegression(penalty='none'), logreg_param_grid).fit(X_train_scaled, y_train)\n",
    "\n",
    "print(\"LOGISTIC REGRESSION (GridSearchCV)\")\n",
    "print(\"Best Parameter: {}\".format(logreg_grid.best_params_))\n",
    "print(\"Best Cross-Validation Score: {:.3f}\".format(logreg_grid.best_score_))\n",
    "print(\"Test set Score: {:.3f}\".format(logreg_grid.score(X_test_scaled, y_test)))\n",
    "\n",
    "print('')\n",
    "print(\"LOGISTIC REGRESSION (UNSCALED DATA)\")\n",
    "\n",
    "logreg = LogisticRegression(C=0.001, penalty = 'none').fit(X_train_scaled, y_train)\n",
    "# Evaluate prediction error on test data directly\n",
    "\n",
    "print(\"Test set score: {:.3f}\".format(logreg.score(X_test_scaled, y_test)))\n",
    "y_pred2 = logreg.predict(X_test_scaled)\n",
    "print(\"Accuracy:\",logreg.score(X_test_scaled, y_test))\n",
    "\n",
    "# Evaluate prediction error on k-fold CV\n",
    "\n",
    "print(\"Mean Cross Validation, KFold: {:.3f}\".format(np.mean(cross_val_score(logreg, X_train_scaled, y_train))))\n",
    "\n",
    "# Model coefficients\n",
    "logreg_coef = pd.DataFrame(data=logreg.coef_, columns=X.columns, index=['Logistic Regression Coefficients'])\n",
    "logreg_coef.head()"
   ]
  },
  {
   "cell_type": "markdown",
   "id": "bdb450ef",
   "metadata": {},
   "source": [
    "In the logistic regression model, I chose C=0.001 for the parameter because through tuning the model, the best parameter is 0.001. A small \"C\" parameter suggests stronger regularization strength of the model, so that the model is better at predicting the unseen data. As it is displayed from the kfold value, which is 0.689 and higher than the previous model.  \n",
    "\n",
    "The test score is the same as KNN model for classification. The k fold cross validation (=0.689) is higher than the one from previous model, which means that the accuracy metrics' average is higher for logistic regression model. Overall, this second model predict a little better than the previous model."
   ]
  },
  {
   "cell_type": "markdown",
   "id": "dee49f78",
   "metadata": {},
   "source": [
    "### 10. Choose a third model from question four.  Using the same three variables in the dataset that you think will be good predictors of \"spam\".  Describe why you chose any particular parameters for your model (e.g.- if you used KNN how did you decide to choose a specific value for k). Run the model and evaluate prediction error in two ways: A) On test data directly and B) using k-fold cross-validation.  Did this model predict test data better than your previous models?"
   ]
  },
  {
   "cell_type": "code",
   "execution_count": 49,
   "id": "0430778f",
   "metadata": {},
   "outputs": [
    {
     "name": "stdout",
     "output_type": "stream",
     "text": [
      "PENLIZED LOGISTIC REGRESSION - L1 (SCALED DATA)\n",
      "Best Parameter: {'C': 10}\n",
      "Best Cross-Validation Score: 0.689\n",
      "Test set Score: 0.656\n"
     ]
    }
   ],
   "source": [
    "# GridSearchCV with L1 Penalized Logistic Regression\n",
    "\n",
    "from sklearn.model_selection import GridSearchCV\n",
    "pen_logreg_param_grid = {'C': [0.001, 0.01, 0.1, 1, 10, 100, 1000]}\n",
    "pen_logreg_grid_l1 = GridSearchCV(LogisticRegression(penalty='l1', solver = 'liblinear'), \n",
    "                                  pen_logreg_param_grid).fit(X_train_scaled, y_train)\n",
    "\n",
    "print(\"PENLIZED LOGISTIC REGRESSION - L1 (SCALED DATA)\")\n",
    "print(\"Best Parameter: {}\".format(pen_logreg_grid_l1.best_params_))\n",
    "print(\"Best Cross-Validation Score: {:.3f}\".format(pen_logreg_grid_l1.best_score_))\n",
    "print(\"Test set Score: {:.3f}\".format(pen_logreg_grid_l1.score(X_test_scaled, y_test)))"
   ]
  },
  {
   "cell_type": "code",
   "execution_count": 51,
   "id": "99f4c71c",
   "metadata": {},
   "outputs": [
    {
     "name": "stdout",
     "output_type": "stream",
     "text": [
      "PENALIZED LOGISTIC REGRESSION - L1 (SCALED DATA)\n",
      "Test set score: 0.656\n",
      "Accuracy: 0.6559513466550826\n",
      "Mean Cross Validation, KFold: 0.689\n"
     ]
    }
   ],
   "source": [
    "# L1 Penalized Logistic Regression Model (Lasso)\n",
    "pen_logreg_scaled_l1 = LogisticRegression(C=10, penalty = 'l1', \n",
    "                                          solver = 'liblinear').fit(X_train_scaled, y_train)\n",
    "\n",
    "print(\"PENALIZED LOGISTIC REGRESSION - L1 (SCALED DATA)\")\n",
    "\n",
    "# Evaluate prediction error on test data directly\n",
    "\n",
    "print(\"Test set score: {:.3f}\".\n",
    "      format(pen_logreg_scaled_l1.score(X_test_scaled, y_test)))\n",
    "\n",
    "print(\"Accuracy:\",pen_logreg_scaled_l1.score(X_test_scaled, y_test))\n",
    "\n",
    "# Stratified Kfold Cross Validation \n",
    "print(\"Mean Cross Validation, KFold: {:.3f}\".format(\n",
    "    np.mean(cross_val_score(pen_logreg_scaled_l1, X_train_scaled, y_train))))\n"
   ]
  },
  {
   "cell_type": "markdown",
   "id": "71f74fea",
   "metadata": {},
   "source": [
    "The parameter I chose for L1 penalized logistic regression is C = 10 because of the best parameter from GridSearchCV, with a less strong regularization strength than the previous model. \n",
    "\n",
    "With a less strong regularization on the model, the Lasso model did not improve as the test score and kfold score is still the same. The model still did not predict better because the independent variables I used might not be the most ideal, and could not predict spam very well. "
   ]
  },
  {
   "cell_type": "markdown",
   "id": "9d28c8d9",
   "metadata": {},
   "source": [
    "### 11. Choose a fourth model from question four.  Using the same three variables in the dataset that you think will be good predictors of \"spam\".  Describe why you chose any particular parameters for your model (e.g.- if you used KNN how did you decide to choose a specific value for k). Run the model and evaluate prediction error in two ways: A) On test data directly and B) using k-fold cross-validation. Evaluate prediction error, did this model predict better than your previous models?"
   ]
  },
  {
   "cell_type": "code",
   "execution_count": 53,
   "id": "76aab421",
   "metadata": {},
   "outputs": [
    {
     "name": "stdout",
     "output_type": "stream",
     "text": [
      "PENLIZED LOGISTIC REGRESSION - L2 (GridSearchCV)\n",
      "Best Parameter: {'C': 100}\n",
      "Best Cross-Validation Score: 0.689\n",
      "Test set Score: 0.656\n",
      "PENALIZED LOGISTIC REGRESSION - L2 (SCALED DATA)\n",
      "Test set score: 0.656\n",
      "Mean Cross Validation, KFold: 0.689\n"
     ]
    }
   ],
   "source": [
    "#GridSearchCV with L2 Penalized Logistic Regression\n",
    "\n",
    "pen_logreg_param_grid = {'C': [0.001, 0.01, 0.1, 1, 10, 100, 1000]}\n",
    "pen_logreg_grid_l2 = GridSearchCV(LogisticRegression(), pen_logreg_param_grid).fit(X_train_scaled, y_train)\n",
    "\n",
    "print(\"PENLIZED LOGISTIC REGRESSION - L2 (GridSearchCV)\")\n",
    "print(\"Best Parameter: {}\".format(pen_logreg_grid_l2.best_params_))\n",
    "print(\"Best Cross-Validation Score: {:.3f}\".format(pen_logreg_grid_l2.best_score_))\n",
    "print(\"Test set Score: {:.3f}\".format(pen_logreg_grid_l2.score(X_test_scaled, y_test)))\n",
    "\n",
    "# L2 Penalized Logistic Regression Model (Ridge)\n",
    "\n",
    "pen_logreg_scaled_l2 = LogisticRegression(C = 100, penalty = 'l2').fit(X_train_scaled, y_train)\n",
    "\n",
    "print(\"PENALIZED LOGISTIC REGRESSION - L2 (SCALED DATA)\")\n",
    "\n",
    "# Evaluate prediction error on test data directly\n",
    "print(\"Test set score: {:.3f}\".format(pen_logreg_scaled_l2.score(X_test_scaled, y_test)))\n",
    "\n",
    "# Kfold Cross Validation \n",
    "print(\"Mean Cross Validation, KFold: {:.3f}\".format(np.mean(cross_val_score(pen_logreg_scaled_l2, X_train_scaled, y_train))))"
   ]
  },
  {
   "cell_type": "markdown",
   "id": "97ba5584",
   "metadata": {},
   "source": [
    "The parameter I chose for this model is C=100, based on the tuned parameter from GridSearchCV. The penalty strength for the Ridge model has become even less stronger than all the previous models, which further influences the constraint we set on the coefficients. This model with a high parameter might not be able to get rid of the coefficients that least predict the unseen data.\n",
    "\n",
    "The k-fold value is the same for logistic regression and penalized logistic regression models, which is 0.689 and also the highest of all four models. Even though the test score has not improved, the three logistic regression models might be better prediction models than KNN for classification model in question 8. "
   ]
  },
  {
   "cell_type": "markdown",
   "id": "bb3eb6e7",
   "metadata": {},
   "source": [
    "### 12. Now rerun your best model from questions 8 through 11, but this time add three new variables to the model that you think will increase prediction accuracy.   Did this model predict test data better than your previous models? "
   ]
  },
  {
   "cell_type": "code",
   "execution_count": 19,
   "id": "786a71ed",
   "metadata": {},
   "outputs": [
    {
     "name": "stdout",
     "output_type": "stream",
     "text": [
      "   char_freq_#:  word_freq_hp:  word_freq_meeting:  word_freq_george:  \\\n",
      "0         0.000            0.0                 0.0                0.0   \n",
      "1         0.048            0.0                 0.0                0.0   \n",
      "2         0.010            0.0                 0.0                0.0   \n",
      "3         0.000            0.0                 0.0                0.0   \n",
      "4         0.000            0.0                 0.0                0.0   \n",
      "\n",
      "   capital_run_length_average:  word_freq_650:  spam  \n",
      "0                        3.756             0.0     1  \n",
      "1                        5.114             0.0     1  \n",
      "2                        9.821             0.0     1  \n",
      "3                        3.537             0.0     1  \n",
      "4                        3.537             0.0     1  \n"
     ]
    }
   ],
   "source": [
    "# select six independent variables\n",
    "d2 = df [[\n",
    "    'char_freq_#:','word_freq_hp:','word_freq_meeting:','word_freq_george:',\n",
    "    'capital_run_length_average:','word_freq_650:','spam']].copy()\n",
    "\n",
    "print(d2.head(n=5))\n",
    "\n",
    "#split data into training and test subsets\n",
    "y2 = d2['spam']\n",
    "X2 = d2.loc[:, d2.columns !='spam']\n",
    "\n",
    "from sklearn.model_selection import train_test_split\n",
    "X2_train, X2_test, y2_train, y2_test = train_test_split(X2, y2, test_size= 0.25, random_state=42)"
   ]
  },
  {
   "cell_type": "code",
   "execution_count": 21,
   "id": "f41bf470",
   "metadata": {},
   "outputs": [],
   "source": [
    "# L1 Penalized Logistic Regression Model (Lasso)\n",
    "\n",
    "# Scale the data \n",
    "\n",
    "scaler2 = StandardScaler().fit(X2_train)\n",
    "X2_train_scaled = scaler2.transform(X2_train)\n",
    "X2_test_scaled = scaler2.transform(X2_test)"
   ]
  },
  {
   "cell_type": "code",
   "execution_count": 25,
   "id": "feb6ffcc",
   "metadata": {},
   "outputs": [
    {
     "name": "stdout",
     "output_type": "stream",
     "text": [
      "PENLIZED LOGISTIC REGRESSION - L1 (SCALED DATA)\n",
      "Best Parameter: {'C': 10}\n",
      "Best Cross-Validation Score: 0.832\n",
      "Test set Score: 0.818\n"
     ]
    }
   ],
   "source": [
    "# GridSearchCV with L1 Penalized Logistic Regression\n",
    "\n",
    "pen_logreg_param_grid2 = {'C': [0.001, 0.01, 0.1, 1, 10, 100, 1000]}\n",
    "\n",
    "pen_logreg_grid_l1_2 = GridSearchCV(LogisticRegression(penalty='l1', solver = 'liblinear'), \n",
    "                                  pen_logreg_param_grid2).fit(X2_train_scaled, y2_train)\n",
    "\n",
    "print(\"PENLIZED LOGISTIC REGRESSION - L1 (SCALED DATA)\")\n",
    "print(\"Best Parameter: {}\".format(pen_logreg_grid_l1_2.best_params_))\n",
    "print(\"Best Cross-Validation Score: {:.3f}\".format(pen_logreg_grid_l1_2.best_score_))\n",
    "print(\"Test set Score: {:.3f}\".format(pen_logreg_grid_l1_2.score(X2_test_scaled, y2_test)))\n"
   ]
  },
  {
   "cell_type": "code",
   "execution_count": 33,
   "id": "a09af766",
   "metadata": {},
   "outputs": [
    {
     "name": "stdout",
     "output_type": "stream",
     "text": [
      "PENALIZED LOGISTIC REGRESSION - L1 (SCALED DATA)\n",
      "Test set score: 0.818\n",
      "Mean Cross Validation, KFold: 0.832\n"
     ]
    }
   ],
   "source": [
    "# Running and Evaluating the L1 Penalized Logistic Regression Model \n",
    "\n",
    "pen_logreg_l1 = LogisticRegression(C=10, penalty = 'l1', \n",
    "                                          solver = 'liblinear').fit(X2_train_scaled, y2_train)\n",
    "\n",
    "# Evaluate prediction error on test data directly\n",
    "\n",
    "print(\"PENALIZED LOGISTIC REGRESSION - L1 (SCALED DATA)\")\n",
    "\n",
    "print(\"Test set score: {:.3f}\".\n",
    "      format(pen_logreg_l1.score(X2_test_scaled, y2_test)))\n",
    "\n",
    "# Repeated Kfold Cross Validation \n",
    "\n",
    "rkf = RepeatedKFold(n_splits=5, n_repeats=10)\n",
    "\n",
    "print(\"Mean Cross Validation, KFold: {:.3f}\".format(np.mean(cross_val_score(\n",
    "    pen_logreg_l1, X2_train, y2_train, cv=rkf))))"
   ]
  },
  {
   "cell_type": "markdown",
   "id": "d5559f06",
   "metadata": {},
   "source": [
    "The new logistic regression model with penalty 1 predicts much better than the previous models with only three independent variables. The test set scores for the previous models are around 0.656, while the test score for the new model with six independent variables is 0.818. The repeated kfold score is also much higher, with a value of 0.832, which means that the average score for accuracy metrics is 0.832. \n",
    "\n",
    "The reason for better prediction and model evaluation is because the new variables can predict \"spam\" emails better in addition to the existing variables. For instance, 'capital_run_length_average:' indicates the average length of uninterrupted sequence of capital letters. In spam emails, there is a higher chance of an entire email with capital letters, in contrast to work and personal emails that have more regularized spelling and format. The higher word frequencies of 'George' and '650' are indicators of non-spam emails, as suggested in the data description. In addition, the Lasso regression model adds a restriction to variables with lamda, so that we can control which variables are better at predicting the model and which variables are not. The logistic regression with L1 penalty adds a new dimension to tuning the parameter in addition to using GridSearchCV. "
   ]
  },
  {
   "cell_type": "markdown",
   "id": "9665ac12",
   "metadata": {},
   "source": [
    "### 13. Rerun all your other models with this final set of six variables, evaluate prediction error, and choose a final model.  Why did you select this model among all of the models that you ran?  "
   ]
  },
  {
   "cell_type": "code",
   "execution_count": 29,
   "id": "9d4613d2",
   "metadata": {},
   "outputs": [
    {
     "name": "stdout",
     "output_type": "stream",
     "text": [
      "KNN for REGRESSION (SCALED DATA)\n",
      "Best Parameter: {'n_neighbors': 5}\n",
      "Best Cross-Validation Score: 0.832\n",
      "Test set Score: 0.830\n"
     ]
    }
   ],
   "source": [
    "# Model 2: K Nearest Neighbor for Classification Model \n",
    "\n",
    "# GridSearchCV with KNN for Classification \n",
    "\n",
    "knn_param_grid2 = {'n_neighbors': range(1, 10)}\n",
    "\n",
    "knn_grid2 = GridSearchCV(KNeighborsClassifier(), knn_param_grid2).fit(X2_train_scaled, y2_train)\n",
    "\n",
    "print(\"KNN for REGRESSION (SCALED DATA)\")\n",
    "print(\"Best Parameter: {}\".format(knn_grid2.best_params_))\n",
    "print(\"Best Cross-Validation Score: {:.3f}\".format(knn_grid2.best_score_))\n",
    "print(\"Test set Score: {:.3f}\".format(knn_grid2.score(X2_test_scaled, y2_test)))"
   ]
  },
  {
   "cell_type": "code",
   "execution_count": 30,
   "id": "397d44a6",
   "metadata": {},
   "outputs": [
    {
     "name": "stdout",
     "output_type": "stream",
     "text": [
      "KNN CLASSIFER (SCALED DATA)\n",
      "Test set score: 0.830\n",
      "accuracy: 0.8297132927888793\n",
      "RepeatedKFold:\n",
      "0.8270434782608695\n"
     ]
    }
   ],
   "source": [
    "knn_scaled2 = KNeighborsClassifier(n_neighbors = 5).fit(X2_train_scaled, y2_train)\n",
    "\n",
    "# Evaluate prediction error on test data directly\n",
    "print(\"KNN CLASSIFER (SCALED DATA)\")\n",
    "\n",
    "print(\"Test set score: {:.3f}\".format(knn_scaled2.score(X2_test_scaled, y2_test)))\n",
    "print(\"accuracy: \"+str(knn_scaled2.score(X2_test_scaled, y2_test)))\n",
    "y_pred2 = knn_scaled2.predict(X2_test) \n",
    "y_pred2\n",
    "\n",
    "# Evaluate prediction error on k-fold CV\n",
    "rkf = RepeatedKFold(n_splits=5, n_repeats=10)\n",
    "\n",
    "print(\"RepeatedKFold:\\n{}\".format(\n",
    "    mean(cross_val_score(knn_scaled2, X2_train, y2_train, cv=rkf))))"
   ]
  },
  {
   "cell_type": "code",
   "execution_count": 31,
   "id": "5bb5f531",
   "metadata": {},
   "outputs": [
    {
     "name": "stdout",
     "output_type": "stream",
     "text": [
      "LOGISTIC REGRESSION (SCALED DATA)\n",
      "Best Parameter: {'C': 0.001}\n",
      "Best Cross-Validation Score: 0.830\n",
      "Test set Score: 0.819\n"
     ]
    }
   ],
   "source": [
    "# Model 3: Logistic Regression Model\n",
    "\n",
    "# GridSearchCV with Logistic Regression Model\n",
    "\n",
    "from sklearn.pipeline import make_pipeline\n",
    "\n",
    "logreg_param_grid2 = {'C': [0.001, 0.01, 0.1, 1, 10, 100, 1000]}\n",
    "logreg_grid3 = GridSearchCV(LogisticRegression(penalty='none'), logreg_param_grid2).fit(X2_train_scaled, y2_train)\n",
    "\n",
    "print(\"LOGISTIC REGRESSION (SCALED DATA)\")\n",
    "print(\"Best Parameter: {}\".format(logreg_grid3.best_params_))\n",
    "print(\"Best Cross-Validation Score: {:.3f}\".format(logreg_grid3.best_score_))\n",
    "print(\"Test set Score: {:.3f}\".format(logreg_grid3.score(X2_test_scaled, y2_test)))"
   ]
  },
  {
   "cell_type": "code",
   "execution_count": 54,
   "id": "63032f06",
   "metadata": {},
   "outputs": [
    {
     "name": "stdout",
     "output_type": "stream",
     "text": [
      "LOGISTIC REGRESSION (SCALED DATA)\n",
      "Test set score: 0.819\n",
      "Mean Cross Validation, KFold: 0.831\n"
     ]
    }
   ],
   "source": [
    "logreg_scaled2 = LogisticRegression(C=0.001, penalty='none').fit(X2_train_scaled, y2_train)\n",
    "\n",
    "# Evaluate prediction error on test data directly\n",
    "print(\"LOGISTIC REGRESSION (SCALED DATA)\")\n",
    "print(\"Test set score: {:.3f}\".format(logreg_scaled2.score(X2_test_scaled, y2_test)))\n",
    "\n",
    "# Evaluate prediction error on kfold cross validation\n",
    "rkf = RepeatedKFold(n_splits=5, n_repeats=10)\n",
    "\n",
    "print(\"Mean Cross Validation, KFold: {:.3f}\".format(np.mean(cross_val_score(logreg_scaled2, X2_train_scaled,\n",
    "                                                                            y2_train, cv=rkf))))"
   ]
  },
  {
   "cell_type": "code",
   "execution_count": 34,
   "id": "9a787602",
   "metadata": {},
   "outputs": [
    {
     "name": "stdout",
     "output_type": "stream",
     "text": [
      "PENLIZED LOGISTIC REGRESSION - L2 (SCALED DATA)\n",
      "Best Parameter: {'C': 100}\n",
      "Best Cross-Validation Score: 0.832\n",
      "Test set Score: 0.819\n"
     ]
    }
   ],
   "source": [
    "# Model 4: L2 Penalized Logistic Regression Model (Ridge)\n",
    "\n",
    "# GridSearchCV with L2 Penalized Logistic Regression\n",
    "\n",
    "pen_logreg_param_grid2 = {'C': [0.001, 0.01, 0.1, 1, 10, 100, 1000]}\n",
    "pen_logreg_grid_l2_2 = GridSearchCV(LogisticRegression(), pen_logreg_param_grid2).fit(X2_train_scaled, y2_train)\n",
    "\n",
    "print(\"PENLIZED LOGISTIC REGRESSION - L2 (SCALED DATA)\")\n",
    "print(\"Best Parameter: {}\".format(pen_logreg_grid_l2_2.best_params_))\n",
    "print(\"Best Cross-Validation Score: {:.3f}\".format(pen_logreg_grid_l2_2.best_score_))\n",
    "print(\"Test set Score: {:.3f}\".format(pen_logreg_grid_l2_2.score(X2_test_scaled, y2_test)))"
   ]
  },
  {
   "cell_type": "code",
   "execution_count": 35,
   "id": "3105b1f0",
   "metadata": {},
   "outputs": [
    {
     "name": "stdout",
     "output_type": "stream",
     "text": [
      "PENALIZED LOGISTIC REGRESSION - L2 (SCALED DATA)\n",
      "Test set score: 0.819\n",
      "Mean Cross Validation, KFold: 0.834\n"
     ]
    }
   ],
   "source": [
    "pen_logreg_l2 = LogisticRegression(C=100, penalty='l2', solver = 'liblinear').fit(X2_train, y2_train) \n",
    "\n",
    "# Evaluate prediction error on test data directly\n",
    "\n",
    "print(\"PENALIZED LOGISTIC REGRESSION - L2 (SCALED DATA)\")\n",
    "print(\"Test set score: {:.3f}\".format(pen_logreg_l2.score(X2_test, y2_test)))\n",
    "\n",
    "# Repeated Kfold Cross Validation \n",
    "\n",
    "rkf = RepeatedKFold(n_splits=5, n_repeats=10)\n",
    "\n",
    "print(\"Mean Cross Validation, KFold: {:.3f}\".format(np.mean(cross_val_score(\n",
    "    pen_logreg_l2, X2_train, y2_train, cv=rkf))))"
   ]
  },
  {
   "cell_type": "code",
   "execution_count": 38,
   "id": "bf4dca5b",
   "metadata": {},
   "outputs": [
    {
     "name": "stdout",
     "output_type": "stream",
     "text": [
      "PENALIZED LOGISTIC REGRESSION - L1\n",
      "Scaled: 0.818\n",
      "Mean Cross Validation, KFold: 0.833\n",
      "\n",
      "LOGISTIC REGRESSION\n",
      "Scaled: 0.819\n",
      "Mean Cross Validation, KFold: 0.831\n",
      "\n",
      "PENALIZED LOGISTIC REGRESSION - L2\n",
      "Test set score: 0.819\n",
      "Mean Cross Validation, KFold: 0.834\n",
      "\n",
      "KNN CLASSIFIER\n",
      "Scaled: 0.830\n",
      "RepeatedKFold:\n",
      "0.828463768115942\n"
     ]
    }
   ],
   "source": [
    "# Choosing the final model\n",
    "\n",
    "print(\"PENALIZED LOGISTIC REGRESSION - L1\")\n",
    "print(\"Scaled: {:.3f}\".format(pen_logreg_l1.score(X2_test_scaled, y2_test)))\n",
    "print(\"Mean Cross Validation, KFold: {:.3f}\".format(np.mean(cross_val_score(pen_logreg_l1, X2_train, y2_train, cv=rkf))))\n",
    "print(\"\")\n",
    "print(\"LOGISTIC REGRESSION\")\n",
    "print(\"Scaled: {:.3f}\".format(logreg_scaled2.score(X2_test_scaled, y2_test)))\n",
    "print(\"Mean Cross Validation, KFold: {:.3f}\".format(np.mean(cross_val_score(logreg_scaled2, X2_train_scaled,\n",
    "                                                                            y2_train, cv=rkf))))\n",
    "print(\"\")\n",
    "print(\"PENALIZED LOGISTIC REGRESSION - L2\")\n",
    "print(\"Test set score: {:.3f}\".format(pen_logreg_l2.score(X2_test, y2_test)))\n",
    "print(\"Mean Cross Validation, KFold: {:.3f}\".format(np.mean(cross_val_score(pen_logreg_l2, X2_train, y2_train, cv=rkf))))\n",
    "print(\"\")\n",
    "print(\"KNN CLASSIFIER\")\n",
    "print(\"Scaled: {:.3f}\".format(knn_scaled2.score(X2_test_scaled, y2_test)))\n",
    "print(\"RepeatedKFold:\\n{}\".format(\n",
    "    mean(cross_val_score(knn_scaled2, X2_train, y2_train, cv=rkf))))"
   ]
  },
  {
   "cell_type": "markdown",
   "id": "c41fa79c",
   "metadata": {},
   "source": [
    "The final model I choose is the L2 Penalized Logistic Regression model with 6 independent variables because it has the highest average score for accuracy metric, which is kfold = 0.834. I chose the model with additional independent variables because the new variables predict better, in contrast to the models from Q8 - Q11. Although the test scores and k-fold scores are similar among the above four models, which are all around 0.80 ~ 0.85, cross validation score is a better evaluation metric since we get an average accuracy score from 5 fitted models with the maximum usage of both testing and training data. \n",
    "\n",
    "Furthermore, the L2 penalized logistic regression model is able to constrain the size of the coefficients and reduce the coefficients that least predict the unseen data. In this L2 penalized logistic regression model, the best parameter is C=100, meaning that the higher the inverse of regularization strength, the lower the penalization of the model. Even with a lower value of constraint to the coefficients, as compared to L1 penalized logistic regression (the best parameter is C=10), L2 penalized logistic regression still has a higher accuracy metric. That is why I chose L2 penalized logistic regression, as it maximizes the accuracy of the fitted model on predicting on the unseen data. "
   ]
  },
  {
   "cell_type": "markdown",
   "id": "e2374b71",
   "metadata": {},
   "source": [
    "### 14. What variable that currently is not in your model, if included, would be likely to increase your final model's predictive power?  For this answer try to speculate about a variable outside the variables available in the data that would improve you model."
   ]
  },
  {
   "cell_type": "markdown",
   "id": "d5d594d2",
   "metadata": {},
   "source": [
    "The variable that might increase my final model's predictive power is 'freq_word_code:' because many spam emails suggest to use 'code' for certain products and the frequency of this word in spam emails is extremely high. On the other hand, even with data-related tasks or jobs, the work emails do not usually mention 'code' but rather more general terms such as 'project'. "
   ]
  },
  {
   "cell_type": "markdown",
   "id": "6ea6839f",
   "metadata": {},
   "source": [
    "### 15. Lastly, you have listed each of the models that we have learned to use to predict dependent variables like spam.  List each model we have focused on in class thus far that you could use to evaluate data with a continuous dependent variable. "
   ]
  },
  {
   "cell_type": "markdown",
   "id": "fb844934",
   "metadata": {},
   "source": [
    "For evaluating data with a continuous dependent variable, we can use k nearest neighbor for regression model, linear regression model, ridge regression model, and lasso regression model. \n",
    "\n",
    "A regression model with k nearest regressor uses 'feature similarity' to predict new observations. The new data points are assigned a value based on how similarly they are to the points in the training set.\n",
    "\n",
    "A linear regression model predicts new data points by measuring the residual sum of squares (RSS), which is the difference between population data and sample data.\n",
    "\n",
    "A ridge or lasso regression model predicts new data points in the same way as linear regression, with additional constraints to beta, so that only the variables that contribute to prediction tasks are included. "
   ]
  }
 ],
 "metadata": {
  "kernelspec": {
   "display_name": "Python 3 (ipykernel)",
   "language": "python",
   "name": "python3"
  },
  "language_info": {
   "codemirror_mode": {
    "name": "ipython",
    "version": 3
   },
   "file_extension": ".py",
   "mimetype": "text/x-python",
   "name": "python",
   "nbconvert_exporter": "python",
   "pygments_lexer": "ipython3",
   "version": "3.9.12"
  }
 },
 "nbformat": 4,
 "nbformat_minor": 5
}
